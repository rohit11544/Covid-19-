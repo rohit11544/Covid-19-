{
 "cells": [
  {
   "cell_type": "markdown",
   "metadata": {},
   "source": [
    "# Importing the Necessary Libraries"
   ]
  },
  {
   "cell_type": "code",
   "execution_count": 1,
   "metadata": {},
   "outputs": [],
   "source": [
    "#### IMPORTING THE LIBERARIES REQUIRED ####\n",
    "\n",
    "import numpy as np\n",
    "import matplotlib.pyplot as plt\n",
    "import os\n",
    "import cv2\n",
    "from tqdm import tqdm\n",
    "from sklearn.metrics import accuracy_score\n",
    "import pickle\n",
    "from sklearn.utils import shuffle  \n",
    "from sklearn.model_selection import train_test_split"
   ]
  },
  {
   "cell_type": "markdown",
   "metadata": {},
   "source": [
    "# Loading Training set"
   ]
  },
  {
   "cell_type": "code",
   "execution_count": 26,
   "metadata": {},
   "outputs": [],
   "source": [
    "#### CONVERTING THE IMAGES TO ARRAYS ####\n",
    "\n",
    "training_data = []\n",
    "DATADIR = r\"C:\\Users\\bvraju\\Desktop\\Covid_19_chest\\Covid19-dataset\\train\"\n",
    "CATEGORIES = [\"Covid\",\"Normal\",\"Viral Pneumonia\"]\n",
    "def create_training_data():\n",
    "    for category in CATEGORIES:\n",
    "        path = os.path.join(DATADIR,category)\n",
    "        class_num = CATEGORIES.index(category)\n",
    "        for img in os.listdir(path):\n",
    "            try:\n",
    "                img_array = cv2.imread(os.path.join(path,img),cv2.IMREAD_GRAYSCALE)\n",
    "                new_array = cv2.resize(img_array,(100,100))\n",
    "                training_data.append([new_array,class_num])\n",
    "            except Exception as e:\n",
    "                pass\n",
    "create_training_data()"
   ]
  },
  {
   "cell_type": "code",
   "execution_count": 27,
   "metadata": {},
   "outputs": [],
   "source": [
    "#### creating the labels for the training data ####\n",
    "\n",
    "X_data=[]\n",
    "y_data=[]\n",
    "for x,y in training_data:\n",
    "    X_label = x\n",
    "    y_label = y\n",
    "    X_data.append(X_label)\n",
    "    y_data.append(y_label)"
   ]
  },
  {
   "cell_type": "markdown",
   "metadata": {},
   "source": [
    "# saving the labels"
   ]
  },
  {
   "cell_type": "code",
   "execution_count": 28,
   "metadata": {},
   "outputs": [],
   "source": [
    "#### SAVING THE LABELS TO FILE ####\n",
    "\n",
    "\n",
    "pickle_out = open('X_LABELS_FOR_GRAYSCALE_IMAGES.pickle','wb')\n",
    "pickle.dump(X_data, pickle_out)\n",
    "pickle_out.close()\n",
    "\n",
    "pickle_out = open('y_LABELS_FOR_GRAYSCALE_IMAGES.pickle', 'wb')\n",
    "pickle.dump(y_data, pickle_out)\n",
    "pickle_out.close()"
   ]
  },
  {
   "cell_type": "markdown",
   "metadata": {},
   "source": [
    "# loading the labels from the saved file"
   ]
  },
  {
   "cell_type": "code",
   "execution_count": 2,
   "metadata": {},
   "outputs": [],
   "source": [
    "\n",
    "X_Temp = open('X_LABELS_FOR_GRAYSCALE_IMAGES.pickle','rb')\n",
    "y_Temp = open('y_LABELS_FOR_GRAYSCALE_IMAGES.pickle','rb')\n",
    "  \n",
    "X = pickle.load(X_Temp)\n",
    "y = pickle.load(y_Temp) \n",
    "X_Temp.close()\n",
    "y_Temp.close()"
   ]
  },
  {
   "cell_type": "code",
   "execution_count": 3,
   "metadata": {},
   "outputs": [
    {
     "name": "stdout",
     "output_type": "stream",
     "text": [
      "shape of the image (100, 100)\n",
      "number of total examples (training + valdation + testing) =  312 312\n",
      "(312, 100, 100, 1) (312, 1)\n"
     ]
    }
   ],
   "source": [
    "#### KNOWING THE DIMENSIONS OF THE IMAGES AND SIZE OF THE DATA SET ####\n",
    "\n",
    "print(\"shape of the image\",X[0].shape)\n",
    "         \n",
    "X,y = shuffle(X,y, random_state=2)           # Shuffling the data \n",
    "\n",
    "   \n",
    "X = np.array(X).reshape(-1, 100,100, 1)       # reshaping and converting them to array\n",
    "y = np.array(y).reshape(-1,1)\n",
    "X = np.array(X/255.0)\n",
    "\n",
    "print(\"number of total examples (training + valdation + testing) = \",len(X),len(y))\n",
    "print(X.shape,y.shape)"
   ]
  },
  {
   "cell_type": "markdown",
   "metadata": {},
   "source": [
    "# Splliting the data into Train and Test set"
   ]
  },
  {
   "cell_type": "code",
   "execution_count": 4,
   "metadata": {},
   "outputs": [
    {
     "name": "stdout",
     "output_type": "stream",
     "text": [
      "(249, 100, 100, 1) (63, 100, 100, 1) (249, 1) (63, 1)\n"
     ]
    }
   ],
   "source": [
    "#### SPLLITING THE DATA INTO TRAIN (training set includes validation set) AND TEST SET ####\n",
    "\n",
    "X_train, X_test, y_train, y_test = train_test_split(X, y, test_size=0.2, random_state=2)\n",
    "print(X_train.shape, X_test.shape, y_train.shape, y_test.shape)"
   ]
  },
  {
   "cell_type": "markdown",
   "metadata": {},
   "source": [
    "# MODEL"
   ]
  },
  {
   "cell_type": "code",
   "execution_count": 5,
   "metadata": {},
   "outputs": [],
   "source": [
    "#### CREATING THE MODEL ####\n",
    "\n",
    "import tensorflow as tf\n",
    "from tensorflow.keras.datasets import cifar10\n",
    "from tensorflow.keras.preprocessing.image import ImageDataGenerator\n",
    "from tensorflow.keras.models import Sequential\n",
    "from tensorflow.keras.layers import Dense, Dropout, Activation, Flatten\n",
    "from tensorflow.keras.layers import Conv2D, MaxPooling2D\n",
    "\n",
    "model = Sequential()\n",
    "\n",
    "model.add(Conv2D(64,(3,3),input_shape = X_train.shape[1:]))\n",
    "model.add(Activation(\"relu\"))\n",
    "model.add(MaxPooling2D(pool_size=(2,2)))\n",
    "\n",
    "model.add(Conv2D(64,(3,3)))\n",
    "model.add(Activation(\"relu\"))\n",
    "model.add(MaxPooling2D(pool_size=(2,2)))\n",
    "\n",
    "model.add(Conv2D(64,(3,3)))\n",
    "model.add(Activation(\"relu\"))\n",
    "model.add(MaxPooling2D(pool_size=(2,2)))\n",
    "\n",
    "model.add(Conv2D(64,(3,3)))\n",
    "model.add(Activation(\"relu\"))\n",
    "model.add(MaxPooling2D(pool_size=(2,2)))\n",
    "\n",
    "model.add(Conv2D(64,(3,3)))\n",
    "model.add(Activation(\"relu\"))\n",
    "model.add(MaxPooling2D(pool_size=(2,2)))\n",
    "\n",
    "\n",
    "model.add(Flatten())\n",
    "model.add(Dense(64))\n",
    "\n",
    "model.add(Dense(3))\n",
    "model.add(Activation('softmax'))\n",
    "\n",
    "model.compile(loss='sparse_categorical_crossentropy',\n",
    "            optimizer='adam',\n",
    "            metrics=['accuracy'])"
   ]
  },
  {
   "cell_type": "code",
   "execution_count": 6,
   "metadata": {},
   "outputs": [
    {
     "name": "stdout",
     "output_type": "stream",
     "text": [
      "Model: \"sequential\"\n",
      "_________________________________________________________________\n",
      "Layer (type)                 Output Shape              Param #   \n",
      "=================================================================\n",
      "conv2d (Conv2D)              (None, 98, 98, 64)        640       \n",
      "_________________________________________________________________\n",
      "activation (Activation)      (None, 98, 98, 64)        0         \n",
      "_________________________________________________________________\n",
      "max_pooling2d (MaxPooling2D) (None, 49, 49, 64)        0         \n",
      "_________________________________________________________________\n",
      "conv2d_1 (Conv2D)            (None, 47, 47, 64)        36928     \n",
      "_________________________________________________________________\n",
      "activation_1 (Activation)    (None, 47, 47, 64)        0         \n",
      "_________________________________________________________________\n",
      "max_pooling2d_1 (MaxPooling2 (None, 23, 23, 64)        0         \n",
      "_________________________________________________________________\n",
      "conv2d_2 (Conv2D)            (None, 21, 21, 64)        36928     \n",
      "_________________________________________________________________\n",
      "activation_2 (Activation)    (None, 21, 21, 64)        0         \n",
      "_________________________________________________________________\n",
      "max_pooling2d_2 (MaxPooling2 (None, 10, 10, 64)        0         \n",
      "_________________________________________________________________\n",
      "conv2d_3 (Conv2D)            (None, 8, 8, 64)          36928     \n",
      "_________________________________________________________________\n",
      "activation_3 (Activation)    (None, 8, 8, 64)          0         \n",
      "_________________________________________________________________\n",
      "max_pooling2d_3 (MaxPooling2 (None, 4, 4, 64)          0         \n",
      "_________________________________________________________________\n",
      "conv2d_4 (Conv2D)            (None, 2, 2, 64)          36928     \n",
      "_________________________________________________________________\n",
      "activation_4 (Activation)    (None, 2, 2, 64)          0         \n",
      "_________________________________________________________________\n",
      "max_pooling2d_4 (MaxPooling2 (None, 1, 1, 64)          0         \n",
      "_________________________________________________________________\n",
      "flatten (Flatten)            (None, 64)                0         \n",
      "_________________________________________________________________\n",
      "dense (Dense)                (None, 64)                4160      \n",
      "_________________________________________________________________\n",
      "dense_1 (Dense)              (None, 3)                 195       \n",
      "_________________________________________________________________\n",
      "activation_5 (Activation)    (None, 3)                 0         \n",
      "=================================================================\n",
      "Total params: 152,707\n",
      "Trainable params: 152,707\n",
      "Non-trainable params: 0\n",
      "_________________________________________________________________\n"
     ]
    }
   ],
   "source": [
    "model.summary()"
   ]
  },
  {
   "cell_type": "markdown",
   "metadata": {},
   "source": [
    "# TRAINING"
   ]
  },
  {
   "cell_type": "code",
   "execution_count": 51,
   "metadata": {
    "scrolled": false
   },
   "outputs": [
    {
     "name": "stdout",
     "output_type": "stream",
     "text": [
      "Train on 211 samples, validate on 38 samples\n",
      "Epoch 1/50\n",
      "211/211 [==============================] - 6s 26ms/sample - loss: 1.1024 - accuracy: 0.3555 - val_loss: 1.0708 - val_accuracy: 0.5526\n",
      "Epoch 2/50\n",
      "211/211 [==============================] - 4s 20ms/sample - loss: 1.0638 - accuracy: 0.4218 - val_loss: 0.8464 - val_accuracy: 0.7105\n",
      "Epoch 3/50\n",
      "211/211 [==============================] - 4s 21ms/sample - loss: 0.6770 - accuracy: 0.6967 - val_loss: 0.8248 - val_accuracy: 0.6316\n",
      "Epoch 4/50\n",
      "211/211 [==============================] - 4s 21ms/sample - loss: 0.3765 - accuracy: 0.8673 - val_loss: 0.4316 - val_accuracy: 0.8421\n",
      "Epoch 5/50\n",
      "211/211 [==============================] - 4s 20ms/sample - loss: 0.3021 - accuracy: 0.8815 - val_loss: 0.7560 - val_accuracy: 0.7895\n",
      "Epoch 6/50\n",
      "211/211 [==============================] - 4s 20ms/sample - loss: 0.3669 - accuracy: 0.8531 - val_loss: 0.5524 - val_accuracy: 0.8421\n",
      "Epoch 7/50\n",
      "211/211 [==============================] - 4s 21ms/sample - loss: 0.2922 - accuracy: 0.8720 - val_loss: 0.3768 - val_accuracy: 0.8947\n",
      "Epoch 8/50\n",
      "211/211 [==============================] - 4s 21ms/sample - loss: 0.1862 - accuracy: 0.9289 - val_loss: 0.3020 - val_accuracy: 0.9211\n",
      "Epoch 9/50\n",
      "211/211 [==============================] - 4s 20ms/sample - loss: 0.1635 - accuracy: 0.9289 - val_loss: 0.4544 - val_accuracy: 0.8421\n",
      "Epoch 10/50\n",
      "211/211 [==============================] - 4s 21ms/sample - loss: 0.1579 - accuracy: 0.9384 - val_loss: 0.4181 - val_accuracy: 0.8421\n",
      "Epoch 11/50\n",
      "211/211 [==============================] - 4s 21ms/sample - loss: 0.1488 - accuracy: 0.9384 - val_loss: 0.4330 - val_accuracy: 0.8158\n",
      "Epoch 12/50\n",
      "211/211 [==============================] - 4s 20ms/sample - loss: 0.1679 - accuracy: 0.9431 - val_loss: 0.5081 - val_accuracy: 0.8684\n",
      "Epoch 13/50\n",
      "211/211 [==============================] - 4s 20ms/sample - loss: 0.1261 - accuracy: 0.9621 - val_loss: 0.4712 - val_accuracy: 0.8421\n",
      "Epoch 14/50\n",
      "211/211 [==============================] - 4s 21ms/sample - loss: 0.0794 - accuracy: 0.9763 - val_loss: 0.3794 - val_accuracy: 0.9211\n",
      "Epoch 15/50\n",
      "211/211 [==============================] - 4s 21ms/sample - loss: 0.1407 - accuracy: 0.9526 - val_loss: 0.5930 - val_accuracy: 0.8421\n",
      "Epoch 16/50\n",
      "211/211 [==============================] - 4s 20ms/sample - loss: 0.0572 - accuracy: 0.9858 - val_loss: 0.3343 - val_accuracy: 0.8947\n",
      "Epoch 17/50\n",
      "211/211 [==============================] - 4s 21ms/sample - loss: 0.0298 - accuracy: 0.9905 - val_loss: 0.2382 - val_accuracy: 0.8947\n",
      "Epoch 18/50\n",
      "211/211 [==============================] - 4s 21ms/sample - loss: 0.0519 - accuracy: 0.9858 - val_loss: 0.2738 - val_accuracy: 0.9211\n",
      "Epoch 19/50\n",
      "211/211 [==============================] - 4s 20ms/sample - loss: 0.0432 - accuracy: 0.9858 - val_loss: 0.4227 - val_accuracy: 0.9474\n",
      "Epoch 20/50\n",
      "211/211 [==============================] - 4s 21ms/sample - loss: 0.0125 - accuracy: 1.0000 - val_loss: 0.4153 - val_accuracy: 0.9211\n",
      "Epoch 21/50\n",
      "211/211 [==============================] - 4s 21ms/sample - loss: 0.0213 - accuracy: 0.9953 - val_loss: 0.4919 - val_accuracy: 0.8947\n",
      "Epoch 22/50\n",
      "211/211 [==============================] - 4s 21ms/sample - loss: 0.0104 - accuracy: 0.9953 - val_loss: 0.4342 - val_accuracy: 0.8684\n",
      "Epoch 23/50\n",
      "211/211 [==============================] - 4s 20ms/sample - loss: 0.0121 - accuracy: 0.9953 - val_loss: 0.8746 - val_accuracy: 0.8684\n",
      "Epoch 24/50\n",
      "211/211 [==============================] - 4s 21ms/sample - loss: 0.0244 - accuracy: 0.9858 - val_loss: 0.4261 - val_accuracy: 0.8684\n",
      "Epoch 25/50\n",
      "211/211 [==============================] - 4s 21ms/sample - loss: 0.0223 - accuracy: 0.9905 - val_loss: 2.6782 - val_accuracy: 0.5789\n",
      "Epoch 26/50\n",
      "211/211 [==============================] - 4s 20ms/sample - loss: 0.1527 - accuracy: 0.9526 - val_loss: 0.3290 - val_accuracy: 0.8947\n",
      "Epoch 27/50\n",
      "211/211 [==============================] - 4s 20ms/sample - loss: 0.0327 - accuracy: 0.9905 - val_loss: 0.8093 - val_accuracy: 0.8947\n",
      "Epoch 28/50\n",
      "211/211 [==============================] - 4s 21ms/sample - loss: 0.1665 - accuracy: 0.9479 - val_loss: 0.5213 - val_accuracy: 0.8158\n",
      "Epoch 29/50\n",
      "211/211 [==============================] - 4s 20ms/sample - loss: 0.1234 - accuracy: 0.9526 - val_loss: 0.4672 - val_accuracy: 0.8947\n",
      "Epoch 30/50\n",
      "211/211 [==============================] - 4s 20ms/sample - loss: 0.0240 - accuracy: 0.9953 - val_loss: 0.4169 - val_accuracy: 0.9211\n",
      "Epoch 31/50\n",
      "211/211 [==============================] - 4s 21ms/sample - loss: 0.0087 - accuracy: 1.0000 - val_loss: 0.3575 - val_accuracy: 0.9211\n",
      "Epoch 32/50\n",
      "211/211 [==============================] - 4s 21ms/sample - loss: 0.0030 - accuracy: 1.0000 - val_loss: 0.4640 - val_accuracy: 0.9211\n",
      "Epoch 33/50\n",
      "211/211 [==============================] - 4s 20ms/sample - loss: 0.0014 - accuracy: 1.0000 - val_loss: 0.4965 - val_accuracy: 0.9211\n",
      "Epoch 34/50\n",
      "211/211 [==============================] - 4s 20ms/sample - loss: 9.4375e-04 - accuracy: 1.0000 - val_loss: 0.4798 - val_accuracy: 0.9211\n",
      "Epoch 35/50\n",
      "211/211 [==============================] - 4s 21ms/sample - loss: 7.8138e-04 - accuracy: 1.0000 - val_loss: 0.5003 - val_accuracy: 0.9211\n",
      "Epoch 36/50\n",
      "211/211 [==============================] - 4s 21ms/sample - loss: 5.9398e-04 - accuracy: 1.0000 - val_loss: 0.4893 - val_accuracy: 0.9211\n",
      "Epoch 37/50\n",
      "211/211 [==============================] - 4s 19ms/sample - loss: 5.1013e-04 - accuracy: 1.0000 - val_loss: 0.4954 - val_accuracy: 0.9211\n",
      "Epoch 38/50\n",
      "211/211 [==============================] - 4s 21ms/sample - loss: 4.3199e-04 - accuracy: 1.0000 - val_loss: 0.5022 - val_accuracy: 0.9211\n",
      "Epoch 39/50\n",
      "211/211 [==============================] - 4s 21ms/sample - loss: 3.8440e-04 - accuracy: 1.0000 - val_loss: 0.5117 - val_accuracy: 0.9211\n",
      "Epoch 40/50\n",
      "211/211 [==============================] - 4s 19ms/sample - loss: 3.3171e-04 - accuracy: 1.0000 - val_loss: 0.5115 - val_accuracy: 0.9211\n",
      "Epoch 41/50\n",
      "211/211 [==============================] - 4s 20ms/sample - loss: 2.9778e-04 - accuracy: 1.0000 - val_loss: 0.5217 - val_accuracy: 0.9211\n",
      "Epoch 42/50\n",
      "211/211 [==============================] - 4s 20ms/sample - loss: 2.5491e-04 - accuracy: 1.0000 - val_loss: 0.5256 - val_accuracy: 0.9211\n",
      "Epoch 43/50\n",
      "211/211 [==============================] - 4s 21ms/sample - loss: 2.2242e-04 - accuracy: 1.0000 - val_loss: 0.5374 - val_accuracy: 0.9211\n",
      "Epoch 44/50\n",
      "211/211 [==============================] - 4s 20ms/sample - loss: 1.8393e-04 - accuracy: 1.0000 - val_loss: 0.5516 - val_accuracy: 0.9211\n",
      "Epoch 45/50\n",
      "211/211 [==============================] - 4s 20ms/sample - loss: 1.6026e-04 - accuracy: 1.0000 - val_loss: 0.5546 - val_accuracy: 0.9211\n",
      "Epoch 46/50\n",
      "211/211 [==============================] - 4s 20ms/sample - loss: 1.3011e-04 - accuracy: 1.0000 - val_loss: 0.5685 - val_accuracy: 0.9211\n",
      "Epoch 47/50\n",
      "211/211 [==============================] - 4s 20ms/sample - loss: 1.1243e-04 - accuracy: 1.0000 - val_loss: 0.5778 - val_accuracy: 0.9211\n",
      "Epoch 48/50\n",
      "211/211 [==============================] - 4s 20ms/sample - loss: 9.6698e-05 - accuracy: 1.0000 - val_loss: 0.5861 - val_accuracy: 0.9211\n",
      "Epoch 49/50\n",
      "211/211 [==============================] - 4s 20ms/sample - loss: 8.7649e-05 - accuracy: 1.0000 - val_loss: 0.5956 - val_accuracy: 0.9211\n",
      "Epoch 50/50\n",
      "211/211 [==============================] - 4s 20ms/sample - loss: 7.7284e-05 - accuracy: 1.0000 - val_loss: 0.6099 - val_accuracy: 0.9211\n"
     ]
    }
   ],
   "source": [
    "#### TRAINING THE MODEL AND TESTING ON VALIDATION SET ####\n",
    "num_epochs=50\n",
    "hist = model.fit(X_train,y_train,batch_size=8,epochs=num_epochs,validation_split=0.15) "
   ]
  },
  {
   "cell_type": "markdown",
   "metadata": {},
   "source": [
    "# VISUALIZING LOSS AND ACCURACY"
   ]
  },
  {
   "cell_type": "code",
   "execution_count": 52,
   "metadata": {},
   "outputs": [
    {
     "data": {
      "image/png": "[encoded data removed]",
      "text/plain": [
       "<Figure size 504x360 with 1 Axes>"
      ]
     },
     "metadata": {
      "needs_background": "light"
     },
     "output_type": "display_data"
    },
    {
     "data": {
      "image/png": "[encoded data removed]",
      "text/plain": [
       "<Figure size 504x360 with 1 Axes>"
      ]
     },
     "metadata": {
      "needs_background": "light"
     },
     "output_type": "display_data"
    }
   ],
   "source": [
    "#### VISUALIZING THE LOSS AND ACCURACY ####\n",
    "\n",
    "import matplotlib.pyplot as plt\n",
    "\n",
    "train_loss=hist.history['loss']\n",
    "val_loss=hist.history['val_loss']\n",
    "train_acc=hist.history['accuracy']\n",
    "val_acc=hist.history['val_accuracy']\n",
    "xc=range(num_epochs)\n",
    "\n",
    "plt.figure(1,figsize=(7,5))\n",
    "plt.plot(xc,train_loss)\n",
    "plt.plot(xc,val_loss)\n",
    "plt.xlabel('num of Epochs')\n",
    "plt.ylabel('loss')\n",
    "plt.title('train_loss vs val_loss')\n",
    "plt.grid(True)\n",
    "plt.legend(['train','val'])\n",
    "#print plt.style.available # use bmh, classic,ggplot for big pictures\n",
    "#plt.style.use(['classic'])\n",
    "\n",
    "plt.figure(2,figsize=(7,5))\n",
    "plt.plot(xc,train_acc)\n",
    "plt.plot(xc,val_acc)\n",
    "plt.xlabel('num of Epochs')\n",
    "plt.ylabel('accuracy')\n",
    "plt.title('train_acc vs val_acc')\n",
    "plt.grid(True)\n",
    "plt.legend(['train','val'],loc=4)\n",
    "#print plt.style.available # use bmh, classic,ggplot for big pictures\n",
    "#plt.style.use(['classic'])\n",
    "\n",
    "plt.show()"
   ]
  },
  {
   "cell_type": "markdown",
   "metadata": {},
   "source": [
    "# Saving the TRAINED weights "
   ]
  },
  {
   "cell_type": "code",
   "execution_count": 8,
   "metadata": {},
   "outputs": [
    {
     "name": "stdout",
     "output_type": "stream",
     "text": [
      "press 1 to continue...1\n",
      "saved the new weights\n"
     ]
    }
   ],
   "source": [
    "#### SAVING THE TRAINED WEIGHTS (helps to avoid multiple times of training the model) ####\n",
    "\n",
    "sure = int(input(\"press 1 to continue...\"))\n",
    "if sure == 1:\n",
    "    fname = \"model_TRAINED_WEIGHTS\"\n",
    "    model.save_weights(fname , overwrite=True)\n",
    "    print(\"saved the new weights\")\n",
    "else:\n",
    "    print(\"no new weights are saved\")    "
   ]
  },
  {
   "cell_type": "markdown",
   "metadata": {},
   "source": [
    "# Loading the TRAINED weights"
   ]
  },
  {
   "cell_type": "code",
   "execution_count": 9,
   "metadata": {},
   "outputs": [
    {
     "data": {
      "text/plain": [
       "<tensorflow.python.training.tracking.util.CheckpointLoadStatus at 0x1ff0dad0808>"
      ]
     },
     "execution_count": 9,
     "metadata": {},
     "output_type": "execute_result"
    }
   ],
   "source": [
    "#### LOADING THE WEIGHTS(this step can be skipped) ####\n",
    "\n",
    "fname = \"model_TRAINED_WEIGHTS\"\n",
    "model.load_weights(fname)"
   ]
  },
  {
   "cell_type": "markdown",
   "metadata": {},
   "source": [
    "# PREDICTING on TEST SET"
   ]
  },
  {
   "cell_type": "code",
   "execution_count": 10,
   "metadata": {},
   "outputs": [
    {
     "name": "stdout",
     "output_type": "stream",
     "text": [
      "prediction on  63  images.\n"
     ]
    }
   ],
   "source": [
    "#### PREDICTING THE CLASSES FOR THE TEST SET ####\n",
    "\n",
    "predicted=model.predict_classes([X_test])\n",
    "\n",
    "print(\"prediction on \", len(predicted),\" images.\")"
   ]
  },
  {
   "cell_type": "code",
   "execution_count": 13,
   "metadata": {},
   "outputs": [
    {
     "name": "stdout",
     "output_type": "stream",
     "text": [
      "accuracy on test set:  0.9523809523809523\n"
     ]
    }
   ],
   "source": [
    "print(\"accuracy on test set: \",accuracy_score(predicted,y_test))  "
   ]
  },
  {
   "cell_type": "markdown",
   "metadata": {},
   "source": [
    "## =================================\n",
    "#   MODEL ACCURACY 95.23%\n",
    "## ================================="
   ]
  },
  {
   "cell_type": "code",
   "execution_count": null,
   "metadata": {},
   "outputs": [],
   "source": []
  }
 ],
 "metadata": {
  "kernelspec": {
   "display_name": "Python 3",
   "language": "python",
   "name": "python3"
  },
  "language_info": {
   "codemirror_mode": {
    "name": "ipython",
    "version": 3
   },
   "file_extension": ".py",
   "mimetype": "text/x-python",
   "name": "python",
   "nbconvert_exporter": "python",
   "pygments_lexer": "ipython3",
   "version": "3.7.6"
  }
 },
 "nbformat": 4,
 "nbformat_minor": 4
}
